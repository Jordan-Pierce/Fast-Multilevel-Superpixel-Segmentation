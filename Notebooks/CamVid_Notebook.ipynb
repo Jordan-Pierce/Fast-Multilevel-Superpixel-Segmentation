{
 "cells": [
  {
   "cell_type": "code",
   "execution_count": 1,
   "metadata": {},
   "outputs": [],
   "source": [
    "import glob\n",
    "from ..src.Fast_MSS import *\n",
    "\n",
    "import warnings\n",
    "warnings.filterwarnings('ignore')"
   ]
  },
  {
   "cell_type": "code",
   "execution_count": 2,
   "metadata": {},
   "outputs": [],
   "source": [
    "# Labels as determined by the CamVid semantic segmentation benchmark dataset (Road Scenes)\n",
    "labels = ['sky', 'building', 'column_pole', \n",
    "          'road', 'sidewalk', 'tree', 'sign', \n",
    "          'fence', 'car', 'pedestrian', 'bicyclist', 'void']"
   ]
  },
  {
   "cell_type": "code",
   "execution_count": 3,
   "metadata": {},
   "outputs": [],
   "source": [
    "# 50 random images and corresponding labels from CamVid\n",
    "images = glob.glob('CamVid\\\\images\\\\*.png')\n",
    "ground_truths = glob.glob('CamVid\\\\labels\\\\*.png')"
   ]
  },
  {
   "cell_type": "code",
   "execution_count": 4,
   "metadata": {},
   "outputs": [
    {
     "data": {
      "image/png": "[encoded data removed]",
      "text/plain": [
       "<Figure size 720x720 with 2 Axes>"
      ]
     },
     "metadata": {
      "needs_background": "light"
     },
     "output_type": "display_data"
    }
   ],
   "source": [
    "# Loops through all 50 samples\n",
    "for _ in range(50):\n",
    "    \n",
    "    image = io.imread(images[_])\n",
    "    ground_truth = io.imread(ground_truths[_])\n",
    "    \n",
    "    # Synthesize sparse labels from the ground-truth \n",
    "    sparse = synthesize_sparse_labels(ground_truth, labels, percent = .01, ratio = .75)\n",
    "    \n",
    "    # Create a mask using the synthesized sparse labels and fast_mss\n",
    "    mask = fast_mss(image, sparse, labels, start_iter = 7500, end_iter = 80, num_iter = 20, method = 'mode')\n",
    "\n",
    "    # Save the mask in a seperate folder for later\n",
    "    io.imsave(arr = mask, fname = images[_].replace('images', 'predictions'))\n",
    "    \n",
    "    \n",
    "# Show the last sample\n",
    "display(ground_truth, mask)"
   ]
  },
  {
   "cell_type": "code",
   "execution_count": 6,
   "metadata": {},
   "outputs": [
    {
     "name": "stdout",
     "output_type": "stream",
     "text": [
      "Relative Abundance: \n",
      "   Class Labels  Ground-Truth  Predictions\n",
      "0           sky        0.1642       0.1731\n",
      "1      building        0.2526       0.2635\n",
      "2   column_pole        0.0102       0.0052\n",
      "3          road        0.3100       0.3131\n",
      "4      sidewalk        0.0545       0.0507\n",
      "5          tree        0.0828       0.0800\n",
      "6          sign        0.0095       0.0059\n",
      "7         fence        0.0102       0.0098\n",
      "8           car        0.0590       0.0600\n",
      "9    pedestrian        0.0071       0.0056\n",
      "10    bicyclist        0.0029       0.0027\n",
      "11         void        0.0371       0.0302\n",
      "\n",
      "Confusion Matrix:\n",
      "[[0.99 0.   0.   0.   0.   0.01 0.   0.   0.   0.   0.   0.  ]\n",
      " [0.01 0.97 0.   0.   0.   0.01 0.   0.   0.   0.   0.   0.01]\n",
      " [0.09 0.38 0.27 0.01 0.03 0.1  0.02 0.01 0.01 0.01 0.   0.06]\n",
      " [0.   0.   0.   0.98 0.01 0.   0.   0.   0.01 0.   0.   0.  ]\n",
      " [0.   0.03 0.   0.09 0.85 0.   0.   0.   0.   0.   0.   0.01]\n",
      " [0.06 0.03 0.   0.   0.   0.89 0.   0.   0.   0.   0.   0.01]\n",
      " [0.01 0.36 0.02 0.   0.   0.04 0.53 0.   0.   0.   0.   0.03]\n",
      " [0.   0.05 0.01 0.   0.02 0.03 0.   0.85 0.01 0.01 0.   0.02]\n",
      " [0.   0.02 0.   0.03 0.   0.01 0.   0.   0.93 0.   0.   0.01]\n",
      " [0.   0.22 0.02 0.02 0.03 0.01 0.   0.01 0.02 0.62 0.   0.06]\n",
      " [0.   0.08 0.   0.06 0.02 0.01 0.   0.   0.02 0.   0.78 0.02]\n",
      " [0.08 0.09 0.01 0.05 0.02 0.03 0.   0.01 0.02 0.01 0.   0.68]]\n",
      "\n",
      "Overall Accuracy:  0.9345581018518518\n",
      "\n",
      "Average Class Accuracy:  0.7785\n",
      "\n",
      "Per Class Accuracy: \n",
      "sky : 0.989\n",
      "building : 0.967\n",
      "column_pole : 0.267\n",
      "road : 0.981\n",
      "sidewalk : 0.852\n",
      "tree : 0.89\n",
      "sign : 0.528\n",
      "fence : 0.855\n",
      "car : 0.934\n",
      "pedestrian : 0.617\n",
      "bicyclist : 0.78\n",
      "void : 0.683\n",
      "\n",
      "Macro: \n",
      "Precision: 0.8582\n",
      "Recall: 0.7785\n",
      "Dice: 0.8101\n",
      "Iou: 0.711\n",
      "\n",
      "Weighted: \n",
      "Precision: 0.9311\n",
      "Recall: 0.9346\n",
      "Dice: 0.9314\n",
      "IoU: 0.8803\n"
     ]
    }
   ],
   "source": [
    "# Get all of the masks made by fast_mss\n",
    "predictions = glob.glob('CamVid\\\\predictions\\\\*.png')\n",
    "\n",
    "# Compare the masks with the ground_truth\n",
    "get_scores(ground_truths, predictions, labels)"
   ]
  },
  {
   "cell_type": "code",
   "execution_count": null,
   "metadata": {},
   "outputs": [],
   "source": []
  }
 ],
 "metadata": {
  "kernelspec": {
   "display_name": "Python 3",
   "language": "python",
   "name": "python3"
  },
  "language_info": {
   "codemirror_mode": {
    "name": "ipython",
    "version": 3
   },
   "file_extension": ".py",
   "mimetype": "text/x-python",
   "name": "python",
   "nbconvert_exporter": "python",
   "pygments_lexer": "ipython3",
   "version": "3.6.8"
  }
 },
 "nbformat": 4,
 "nbformat_minor": 2
}
